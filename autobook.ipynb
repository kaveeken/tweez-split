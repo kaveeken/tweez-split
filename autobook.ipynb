{
 "cells": [
  {
   "cell_type": "code",
   "execution_count": null,
   "metadata": {},
   "outputs": [],
   "source": [
    "import numpy as np\n",
    "import lumicks.pylake as lk\n",
    "import matplotlib.pyplot as plt\n",
    "import h5py\n",
    "from sklearn.linear_model import LinearRegression"
   ]
  },
  {
   "cell_type": "code",
   "execution_count": null,
   "metadata": {},
   "outputs": [],
   "source": [
    "d = h5py.File('/home/kris/proj/.data/tweez/yhsp2.h5', 'r')\n",
    "signal = d['Trap position']['1X']\n",
    "first = np.argwhere(np.asarray(signal) < 2)[0][0]\n",
    "signal = signal[first:]\n",
    "distance = d['Distance']['Piezo Distance'][first:]\n",
    "distance = distance - np.amin(distance)\n",
    "force = d['Force HF']['Force 1x'][first:]\n",
    "\n",
    "toseconds = 1e-9\n",
    "duration = (d['Force LF']['Force 1x'][:][-1][0] \\\n",
    "            - d['Force LF']['Force 1x'][:][0][0]) * toseconds\n",
    "frequency = len(force) / duration\n",
    "print(duration, frequency)"
   ]
  },
  {
   "cell_type": "code",
   "execution_count": null,
   "metadata": {},
   "outputs": [],
   "source": [
    "plt.plot(signal[::100000])"
   ]
  },
  {
   "cell_type": "code",
   "execution_count": null,
   "metadata": {},
   "outputs": [],
   "source": [
    "np.asarray(signal) < 2\n",
    "np.argwhere(np.asarray(signal) < 2)"
   ]
  },
  {
   "cell_type": "code",
   "execution_count": null,
   "metadata": {},
   "outputs": [],
   "source": [
    "%matplotlib inline\n",
    "from util import find_pulls\n",
    "pulls = find_pulls(signal)\n",
    "print(len(pulls))"
   ]
  },
  {
   "cell_type": "code",
   "execution_count": null,
   "metadata": {},
   "outputs": [],
   "source": [
    "plt.plot(signal[::100000])\n",
    "for (start, stop) in pulls:\n",
    "    plt.axvline(start // 100000, c='tab:green')\n",
    "    plt.axvline(stop // 100000, c='tab:orange')\n",
    "    #plt.xlim((50,150))"
   ]
  },
  {
   "cell_type": "code",
   "execution_count": null,
   "metadata": {},
   "outputs": [],
   "source": [
    "from scipy.stats import hmean\n",
    "target = 5000\n",
    "pullens = [pull[1] - pull[0] for pull in pulls]\n",
    "pull_points = int(hmean(pullens))\n",
    "# pull_points = pulls[0][1] - pulls[0][0]\n",
    "kernel_size = pull_points // 5000\n",
    "kernel = np.ones(kernel_size) / kernel_size\n",
    "smooth_force = np.convolve(force, kernel, mode='same')"
   ]
  },
  {
   "cell_type": "code",
   "execution_count": null,
   "metadata": {},
   "outputs": [],
   "source": [
    "curves = {}\n",
    "for index, pull in enumerate(pulls):\n",
    "    identifier = 'curve_' + str(index + 1)\n",
    "    if not index:\n",
    "        identifier = identifier + '_0ms'\n",
    "    else:\n",
    "        identifier = identifier + '_' + str(int((pull[0] - pulls[index - 1][1]) / frequency * 1000)) + 'ms'\n",
    "    curves[identifier] = {'force': smooth_force[pull[0]:pull[1]][::kernel_size],\n",
    "                         'dist': distance[pull[0]:pull[1]][::kernel_size]}\n",
    "print(curves.keys())"
   ]
  },
  {
   "cell_type": "code",
   "execution_count": null,
   "metadata": {},
   "outputs": [],
   "source": [
    "from util import write_csv\n",
    "\n",
    "write_csv('/home/kris/proj/.data/tweez/yhsp2.csv', curves)"
   ]
  },
  {
   "cell_type": "code",
   "execution_count": null,
   "metadata": {},
   "outputs": [],
   "source": [
    "for index, curve in enumerate(curves.values()):\n",
    "    if index < 10:\n",
    "        continue\n",
    "    elif index > 20:\n",
    "        break\n",
    "    fix,ax1=plt.subplots()\n",
    "    ax1.plot(curve['force'], c='tab:blue', alpha=0.8)\n",
    "    ax2 = ax1.twinx()\n",
    "    ax2.plot(curve['dist'], c='tab:orange', alpha=0.8)"
   ]
  },
  {
   "cell_type": "code",
   "execution_count": null,
   "metadata": {},
   "outputs": [],
   "source": [
    "plt.plot(smooth_force)"
   ]
  },
  {
   "cell_type": "code",
   "execution_count": null,
   "metadata": {},
   "outputs": [],
   "source": [
    "print(bars[0], bars[1])"
   ]
  },
  {
   "cell_type": "code",
   "execution_count": null,
   "metadata": {},
   "outputs": [],
   "source": []
  },
  {
   "cell_type": "code",
   "execution_count": null,
   "metadata": {},
   "outputs": [],
   "source": [
    "import csv\n",
    "with open('/home/kris/proj/.data/tweez/split_curves.csv', 'w') as f:\n",
    "    wr = csv.writer(f)\n",
    "    for curve_id, curve in curves.items():\n",
    "        wr.writerow([curve_id, *[dist for dist in curve['dist']]])\n",
    "        wr.writerow([curve_id, *[force for force in curve['force']]])"
   ]
  },
  {
   "cell_type": "code",
   "execution_count": null,
   "metadata": {},
   "outputs": [],
   "source": [
    "for curve in curves.values():\n",
    "    plt.figure()\n",
    "    bins = plt.hist(curve['force'], bins=50)\n",
    "    plt.axhline(np.mean(bins[0]), c='tab:orange')\n",
    "    plt.axhline(np.mean(bins[0]) + np.std(bins[0]), c='tab:orange', alpha=0.5)\n",
    "    print(np.mean(bins[0]), np.std(bins[0]))\n",
    "    plt.figure()\n",
    "    plt.plot(np.diff(curve['force']))"
   ]
  },
  {
   "cell_type": "code",
   "execution_count": null,
   "metadata": {},
   "outputs": [],
   "source": [
    "def simple_slope(f, index, size):\n",
    "    return (f[min(len(f) - 1, index + size)] - f[max(0, index - size)]) / (2 * size)"
   ]
  },
  {
   "cell_type": "code",
   "execution_count": null,
   "metadata": {},
   "outputs": [],
   "source": [
    "for curve in curves.values():\n",
    "    slopes = []\n",
    "    for index, force in enumerate(curve['force']):\n",
    "        slopes.append(simple_slope(curve['force'], index, 50))\n",
    "    plt.plot(slopes)\n",
    "    #plt.plot(curve['force'])\n",
    "plt.axhline(0)"
   ]
  },
  {
   "cell_type": "code",
   "execution_count": null,
   "metadata": {},
   "outputs": [],
   "source": [
    "single = curves['curve_1_0ms']\n",
    "slopes = []\n",
    "for index, force in enumerate(single['force']):\n",
    "    slopes.append(simple_slope(single['force'], index, 50))\n",
    "plt.plot(slopes)\n",
    "\n",
    "subzeros = []\n",
    "for index, slope in enumerate(slopes[1000:-1000]):\n",
    "    if slope < 0:\n",
    "        subzeros.append(index)\n",
    "for index, sub in enumerate(reversed(subzeros)):\n",
    "    if subzeros[-1] == subzeros[-2] + 1:\n",
    "        subzeros.pop(-1)\n",
    "    else:\n",
    "        break\n",
    "    #print(sub, index)\n",
    "print(len(subzeros))\n",
    "plt.axvline(subzeros[0] + 1000)\n",
    "plt.axvline(subzeros[-1] + 1000)\n",
    "plt.figure()\n",
    "plt.plot(single['force'])\n",
    "plt.axvline(subzeros[0] + 1000)\n",
    "plt.axvline(subzeros[-1] + 1000)\n"
   ]
  },
  {
   "cell_type": "code",
   "execution_count": null,
   "metadata": {},
   "outputs": [],
   "source": []
  }
 ],
 "metadata": {
  "kernelspec": {
   "display_name": "Python 3",
   "language": "python",
   "name": "python3"
  },
  "language_info": {
   "codemirror_mode": {
    "name": "ipython",
    "version": 3
   },
   "file_extension": ".py",
   "mimetype": "text/x-python",
   "name": "python",
   "nbconvert_exporter": "python",
   "pygments_lexer": "ipython3",
   "version": "3.8.6"
  }
 },
 "nbformat": 4,
 "nbformat_minor": 4
}
